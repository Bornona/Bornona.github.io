{
  "nbformat": 4,
  "nbformat_minor": 0,
  "metadata": {
    "colab": {
      "provenance": [],
      "collapsed_sections": [
        "Glw8-T3GMgHd",
        "t2MM9YUMM0kn"
      ],
      "include_colab_link": true
    },
    "kernelspec": {
      "name": "python3",
      "display_name": "Python 3"
    },
    "language_info": {
      "name": "python"
    }
  },
  "cells": [
    {
      "cell_type": "markdown",
      "metadata": {
        "id": "view-in-github",
        "colab_type": "text"
      },
      "source": [
        "<a href=\"https://colab.research.google.com/github/Bornona/Bornona.github.io/blob/main/Bangla_Hate_Comment_Detection.ipynb\" target=\"_parent\"><img src=\"https://colab.research.google.com/assets/colab-badge.svg\" alt=\"Open In Colab\"/></a>"
      ]
    },
    {
      "cell_type": "markdown",
      "source": [
        "# Library & Package Import"
      ],
      "metadata": {
        "id": "jgDWwzF9LR4m"
      }
    },
    {
      "cell_type": "code",
      "source": [
        "! pip install Unidecode"
      ],
      "metadata": {
        "colab": {
          "base_uri": "https://localhost:8080/"
        },
        "id": "VTmTniJfL9p2",
        "outputId": "97d90674-c954-4e5d-ee68-d3c498fdded8"
      },
      "execution_count": null,
      "outputs": [
        {
          "output_type": "stream",
          "name": "stdout",
          "text": [
            "Looking in indexes: https://pypi.org/simple, https://us-python.pkg.dev/colab-wheels/public/simple/\n",
            "Collecting Unidecode\n",
            "  Downloading Unidecode-1.3.4-py3-none-any.whl (235 kB)\n",
            "\u001b[K     |████████████████████████████████| 235 kB 5.3 MB/s \n",
            "\u001b[?25hInstalling collected packages: Unidecode\n",
            "Successfully installed Unidecode-1.3.4\n"
          ]
        }
      ]
    },
    {
      "cell_type": "code",
      "execution_count": null,
      "metadata": {
        "id": "sv9wQ4r-LERK"
      },
      "outputs": [],
      "source": [
        "import pandas as pd\n",
        "from pandas import read_excel\n",
        "import numpy as np\n",
        "import re\n",
        "from re import sub\n",
        "import multiprocessing\n",
        "from unidecode import unidecode\n",
        "import os\n",
        "from time import time\n",
        "import tensorflow as tf\n",
        "import keras\n",
        "from keras.models import Sequential\n",
        "from keras.layers import LSTM,Dense,Dropout,Activation,Embedding,Flatten,Bidirectional,MaxPooling2D, Conv1D, MaxPooling1D\n",
        "from tensorflow.keras.optimizers import SGD,Adam\n",
        "from keras import regularizers\n",
        "from keras.preprocessing.text import Tokenizer\n",
        "from keras.preprocessing.sequence import pad_sequences\n",
        "from keras.utils.np_utils import to_categorical\n",
        "from keras.utils import np_utils\n",
        "import h5py\n",
        "import csv\n",
        "from sklearn.metrics import precision_score\n",
        "from sklearn.metrics import recall_score\n",
        "from sklearn.metrics import f1_score\n",
        "import seaborn as sns\n",
        "import matplotlib.pyplot as plt\n",
        "from sklearn.model_selection import train_test_split\n",
        "from sklearn.model_selection import StratifiedKFold\n",
        "from sklearn.metrics import confusion_matrix, classification_report"
      ]
    },
    {
      "cell_type": "markdown",
      "source": [
        "# Predefined Functions"
      ],
      "metadata": {
        "id": "Glw8-T3GMgHd"
      }
    },
    {
      "cell_type": "code",
      "source": [
        "def text_to_word_list(text):\n",
        "    text = text.split()\n",
        "    return text\n",
        "\n",
        "def replace_strings(text):\n",
        "    emoji_pattern = re.compile(\"[\"\n",
        "                           u\"\\U0001F600-\\U0001F64F\"  # emoticons\n",
        "                           u\"\\U0001F300-\\U0001F5FF\"  # symbols & pictographs\n",
        "                           u\"\\U0001F680-\\U0001F6FF\"  # transport & map symbols\n",
        "                           u\"\\U0001F1E0-\\U0001F1FF\"  # flags (iOS)\n",
        "                           u\"\\U00002702-\\U000027B0\"\n",
        "                           u\"\\U000024C2-\\U0001F251\"\n",
        "                           u\"\\u00C0-\\u017F\"          #latin\n",
        "                           u\"\\u2000-\\u206F\"          #generalPunctuations\n",
        "\n",
        "                           \"]+\", flags=re.UNICODE)\n",
        "    english_pattern=re.compile('[a-zA-Z0-9]+', flags=re.I)\n",
        "    #latin_pattern=re.compile('[A-Za-z\\u00C0-\\u00D6\\u00D8-\\u00f6\\u00f8-\\u00ff\\s]*',)\n",
        "\n",
        "    text=emoji_pattern.sub(r'', text)\n",
        "    text=english_pattern.sub(r'', text)\n",
        "\n",
        "    return text\n",
        "\n",
        "def remove_punctuations(my_str):\n",
        "    # define punctuation\n",
        "    punctuations = '''```\u0012\u0010\u0002\b`\u0007\b£|¢|\u0007Ñ+-*/=EROero৳০১২৩৪৫৬৭৮৯012–34567•89।!()-[]{};:'\"“\\’,<>./?@#$%^&*_~‘—॥”‰⚽️✌�￰৷￰'''\n",
        "\n",
        "    no_punct = \"\"\n",
        "    for char in my_str:\n",
        "        if char not in punctuations:\n",
        "            no_punct = no_punct + char\n",
        "\n",
        "    # display the unpunctuated string\n",
        "    return no_punct\n",
        "\n",
        "\n",
        "\n",
        "def joining(text):\n",
        "    out=' '.join(text)\n",
        "    return out\n",
        "\n",
        "def preprocessing(text):\n",
        "    out=remove_punctuations(replace_strings(text))\n",
        "    return out"
      ],
      "metadata": {
        "id": "_PlKGBsFMhIt"
      },
      "execution_count": null,
      "outputs": []
    },
    {
      "cell_type": "markdown",
      "source": [
        "# Data Import"
      ],
      "metadata": {
        "id": "t2MM9YUMM0kn"
      }
    },
    {
      "cell_type": "code",
      "source": [
        "from google.colab import drive\n",
        "drive.mount('/content/drive')\n",
        "import pandas as pd\n",
        "import re\n",
        "import matplotlib.pyplot as plt\n",
        "path ='/content/drive/My Drive/'"
      ],
      "metadata": {
        "colab": {
          "base_uri": "https://localhost:8080/"
        },
        "id": "yff2j7ibND9j",
        "outputId": "4f069c70-594c-4d35-fe66-68ad393289e5"
      },
      "execution_count": null,
      "outputs": [
        {
          "output_type": "stream",
          "name": "stdout",
          "text": [
            "Mounted at /content/drive\n"
          ]
        }
      ]
    },
    {
      "cell_type": "code",
      "source": [
        "df = pd.read_csv('/content/drive/MyDrive/FINAL.csv',encoding='UTF-8')\n",
        "#df = df.drop(columns=['Like', 'Love', 'Haha'])\n",
        "df.tail()"
      ],
      "metadata": {
        "id": "pajkMv_6M1xD",
        "colab": {
          "base_uri": "https://localhost:8080/",
          "height": 206
        },
        "outputId": "868b84b0-bf47-4995-813a-abbd77915cd3"
      },
      "execution_count": null,
      "outputs": [
        {
          "output_type": "execute_result",
          "data": {
            "text/plain": [
              "                                                Comment  \\\n",
              "1996  আমাদের যাদের সামর্থ্য নেই তাদের অনেক সমস্যা হয়...   \n",
              "1997  মাওয়া ঘাটের ইলিশ মাছ আর লেজ ভর্তার ভিডিও দেখতে...   \n",
              "1998                         মহিলাটা অনেক বেশি কথা বলে।   \n",
              "1999  আপা আপনার কথা শুনতেই ভালো লাগে আপনার কন্ঠ শুনল...   \n",
              "2000  আপনি বিলাসিতা করেন অন্য কারোর খারাপ লাগে কারণ ...   \n",
              "\n",
              "                                                   Post  Like  Love  Haha  \\\n",
              "1996  মাওয়া ফেরী ঘাটে ইলিশ দিয়ে গরম ভাত | ফারিয়া ও ...   0.0   0.0   0.0   \n",
              "1997  মাওয়া ফেরী ঘাটে ইলিশ দিয়ে গরম ভাত | ফারিয়া ও ...   0.0   0.0   0.0   \n",
              "1998  মাওয়া ফেরী ঘাটে ইলিশ দিয়ে গরম ভাত | ফারিয়া ও ...   0.0   0.0   0.0   \n",
              "1999  মাওয়া ফেরী ঘাটে ইলিশ দিয়ে গরম ভাত | ফারিয়া ও ...   0.0   0.0   0.0   \n",
              "2000  মাওয়া ফেরী ঘাটে ইলিশ দিয়ে গরম ভাত | ফারিয়া ও ...   0.0   0.0   0.0   \n",
              "\n",
              "      Hate  \n",
              "1996     0  \n",
              "1997     0  \n",
              "1998     1  \n",
              "1999     0  \n",
              "2000     0  "
            ],
            "text/html": [
              "\n",
              "  <div id=\"df-985b3888-6f7d-43b9-bdfa-343353041786\">\n",
              "    <div class=\"colab-df-container\">\n",
              "      <div>\n",
              "<style scoped>\n",
              "    .dataframe tbody tr th:only-of-type {\n",
              "        vertical-align: middle;\n",
              "    }\n",
              "\n",
              "    .dataframe tbody tr th {\n",
              "        vertical-align: top;\n",
              "    }\n",
              "\n",
              "    .dataframe thead th {\n",
              "        text-align: right;\n",
              "    }\n",
              "</style>\n",
              "<table border=\"1\" class=\"dataframe\">\n",
              "  <thead>\n",
              "    <tr style=\"text-align: right;\">\n",
              "      <th></th>\n",
              "      <th>Comment</th>\n",
              "      <th>Post</th>\n",
              "      <th>Like</th>\n",
              "      <th>Love</th>\n",
              "      <th>Haha</th>\n",
              "      <th>Hate</th>\n",
              "    </tr>\n",
              "  </thead>\n",
              "  <tbody>\n",
              "    <tr>\n",
              "      <th>1996</th>\n",
              "      <td>আমাদের যাদের সামর্থ্য নেই তাদের অনেক সমস্যা হয়...</td>\n",
              "      <td>মাওয়া ফেরী ঘাটে ইলিশ দিয়ে গরম ভাত | ফারিয়া ও ...</td>\n",
              "      <td>0.0</td>\n",
              "      <td>0.0</td>\n",
              "      <td>0.0</td>\n",
              "      <td>0</td>\n",
              "    </tr>\n",
              "    <tr>\n",
              "      <th>1997</th>\n",
              "      <td>মাওয়া ঘাটের ইলিশ মাছ আর লেজ ভর্তার ভিডিও দেখতে...</td>\n",
              "      <td>মাওয়া ফেরী ঘাটে ইলিশ দিয়ে গরম ভাত | ফারিয়া ও ...</td>\n",
              "      <td>0.0</td>\n",
              "      <td>0.0</td>\n",
              "      <td>0.0</td>\n",
              "      <td>0</td>\n",
              "    </tr>\n",
              "    <tr>\n",
              "      <th>1998</th>\n",
              "      <td>মহিলাটা অনেক বেশি কথা বলে।</td>\n",
              "      <td>মাওয়া ফেরী ঘাটে ইলিশ দিয়ে গরম ভাত | ফারিয়া ও ...</td>\n",
              "      <td>0.0</td>\n",
              "      <td>0.0</td>\n",
              "      <td>0.0</td>\n",
              "      <td>1</td>\n",
              "    </tr>\n",
              "    <tr>\n",
              "      <th>1999</th>\n",
              "      <td>আপা আপনার কথা শুনতেই ভালো লাগে আপনার কন্ঠ শুনল...</td>\n",
              "      <td>মাওয়া ফেরী ঘাটে ইলিশ দিয়ে গরম ভাত | ফারিয়া ও ...</td>\n",
              "      <td>0.0</td>\n",
              "      <td>0.0</td>\n",
              "      <td>0.0</td>\n",
              "      <td>0</td>\n",
              "    </tr>\n",
              "    <tr>\n",
              "      <th>2000</th>\n",
              "      <td>আপনি বিলাসিতা করেন অন্য কারোর খারাপ লাগে কারণ ...</td>\n",
              "      <td>মাওয়া ফেরী ঘাটে ইলিশ দিয়ে গরম ভাত | ফারিয়া ও ...</td>\n",
              "      <td>0.0</td>\n",
              "      <td>0.0</td>\n",
              "      <td>0.0</td>\n",
              "      <td>0</td>\n",
              "    </tr>\n",
              "  </tbody>\n",
              "</table>\n",
              "</div>\n",
              "      <button class=\"colab-df-convert\" onclick=\"convertToInteractive('df-985b3888-6f7d-43b9-bdfa-343353041786')\"\n",
              "              title=\"Convert this dataframe to an interactive table.\"\n",
              "              style=\"display:none;\">\n",
              "        \n",
              "  <svg xmlns=\"http://www.w3.org/2000/svg\" height=\"24px\"viewBox=\"0 0 24 24\"\n",
              "       width=\"24px\">\n",
              "    <path d=\"M0 0h24v24H0V0z\" fill=\"none\"/>\n",
              "    <path d=\"M18.56 5.44l.94 2.06.94-2.06 2.06-.94-2.06-.94-.94-2.06-.94 2.06-2.06.94zm-11 1L8.5 8.5l.94-2.06 2.06-.94-2.06-.94L8.5 2.5l-.94 2.06-2.06.94zm10 10l.94 2.06.94-2.06 2.06-.94-2.06-.94-.94-2.06-.94 2.06-2.06.94z\"/><path d=\"M17.41 7.96l-1.37-1.37c-.4-.4-.92-.59-1.43-.59-.52 0-1.04.2-1.43.59L10.3 9.45l-7.72 7.72c-.78.78-.78 2.05 0 2.83L4 21.41c.39.39.9.59 1.41.59.51 0 1.02-.2 1.41-.59l7.78-7.78 2.81-2.81c.8-.78.8-2.07 0-2.86zM5.41 20L4 18.59l7.72-7.72 1.47 1.35L5.41 20z\"/>\n",
              "  </svg>\n",
              "      </button>\n",
              "      \n",
              "  <style>\n",
              "    .colab-df-container {\n",
              "      display:flex;\n",
              "      flex-wrap:wrap;\n",
              "      gap: 12px;\n",
              "    }\n",
              "\n",
              "    .colab-df-convert {\n",
              "      background-color: #E8F0FE;\n",
              "      border: none;\n",
              "      border-radius: 50%;\n",
              "      cursor: pointer;\n",
              "      display: none;\n",
              "      fill: #1967D2;\n",
              "      height: 32px;\n",
              "      padding: 0 0 0 0;\n",
              "      width: 32px;\n",
              "    }\n",
              "\n",
              "    .colab-df-convert:hover {\n",
              "      background-color: #E2EBFA;\n",
              "      box-shadow: 0px 1px 2px rgba(60, 64, 67, 0.3), 0px 1px 3px 1px rgba(60, 64, 67, 0.15);\n",
              "      fill: #174EA6;\n",
              "    }\n",
              "\n",
              "    [theme=dark] .colab-df-convert {\n",
              "      background-color: #3B4455;\n",
              "      fill: #D2E3FC;\n",
              "    }\n",
              "\n",
              "    [theme=dark] .colab-df-convert:hover {\n",
              "      background-color: #434B5C;\n",
              "      box-shadow: 0px 1px 3px 1px rgba(0, 0, 0, 0.15);\n",
              "      filter: drop-shadow(0px 1px 2px rgba(0, 0, 0, 0.3));\n",
              "      fill: #FFFFFF;\n",
              "    }\n",
              "  </style>\n",
              "\n",
              "      <script>\n",
              "        const buttonEl =\n",
              "          document.querySelector('#df-985b3888-6f7d-43b9-bdfa-343353041786 button.colab-df-convert');\n",
              "        buttonEl.style.display =\n",
              "          google.colab.kernel.accessAllowed ? 'block' : 'none';\n",
              "\n",
              "        async function convertToInteractive(key) {\n",
              "          const element = document.querySelector('#df-985b3888-6f7d-43b9-bdfa-343353041786');\n",
              "          const dataTable =\n",
              "            await google.colab.kernel.invokeFunction('convertToInteractive',\n",
              "                                                     [key], {});\n",
              "          if (!dataTable) return;\n",
              "\n",
              "          const docLinkHtml = 'Like what you see? Visit the ' +\n",
              "            '<a target=\"_blank\" href=https://colab.research.google.com/notebooks/data_table.ipynb>data table notebook</a>'\n",
              "            + ' to learn more about interactive tables.';\n",
              "          element.innerHTML = '';\n",
              "          dataTable['output_type'] = 'display_data';\n",
              "          await google.colab.output.renderOutput(dataTable, element);\n",
              "          const docLink = document.createElement('div');\n",
              "          docLink.innerHTML = docLinkHtml;\n",
              "          element.appendChild(docLink);\n",
              "        }\n",
              "      </script>\n",
              "    </div>\n",
              "  </div>\n",
              "  "
            ]
          },
          "metadata": {},
          "execution_count": 8
        }
      ]
    },
    {
      "cell_type": "markdown",
      "source": [
        "Visualize the ratio of Hate comment and No Hate comment"
      ],
      "metadata": {
        "id": "fHoDJuCbNXDM"
      }
    },
    {
      "cell_type": "code",
      "source": [
        "sns.countplot(df['Hate']);\n"
      ],
      "metadata": {
        "colab": {
          "base_uri": "https://localhost:8080/",
          "height": 334
        },
        "id": "VM2L5nyINcUX",
        "outputId": "bc70245e-577d-43d3-f8b2-88273ef65e42"
      },
      "execution_count": null,
      "outputs": [
        {
          "output_type": "stream",
          "name": "stderr",
          "text": [
            "/usr/local/lib/python3.7/dist-packages/seaborn/_decorators.py:43: FutureWarning: Pass the following variable as a keyword arg: x. From version 0.12, the only valid positional argument will be `data`, and passing other arguments without an explicit keyword will result in an error or misinterpretation.\n",
            "  FutureWarning\n"
          ]
        },
        {
          "output_type": "display_data",
          "data": {
            "text/plain": [
              "<Figure size 432x288 with 1 Axes>"
            ],
            "image/png": "[encoded data removed]"
          },
          "metadata": {
            "needs_background": "light"
          }
        }
      ]
    },
    {
      "cell_type": "code",
      "source": [
        "(df['Hate'].count())"
      ],
      "metadata": {
        "colab": {
          "base_uri": "https://localhost:8080/"
        },
        "id": "LuZFvAJl_b1p",
        "outputId": "881e6f38-ee49-4ab3-9533-b5caac784c40"
      },
      "execution_count": null,
      "outputs": [
        {
          "output_type": "execute_result",
          "data": {
            "text/plain": [
              "2001"
            ]
          },
          "metadata": {},
          "execution_count": 10
        }
      ]
    },
    {
      "cell_type": "markdown",
      "source": [
        "# Data Preprocessing"
      ],
      "metadata": {
        "id": "B8EZHHwPOAi7"
      }
    },
    {
      "cell_type": "code",
      "source": [
        "df['Comment'] = df.Comment.apply(lambda x: preprocessing(str(x)))\n",
        "df['Post'] = df.Post.apply(lambda x: preprocessing(str(x)))\n",
        "df.reset_index(drop=True, inplace=True)"
      ],
      "metadata": {
        "id": "RFeA6nSzODL2"
      },
      "execution_count": null,
      "outputs": []
    },
    {
      "cell_type": "markdown",
      "source": [
        "Prepare the Dataset"
      ],
      "metadata": {
        "id": "ppcJlRbUOu4k"
      }
    },
    {
      "cell_type": "code",
      "source": [
        "train1, test1 = train_test_split(df,random_state=69, test_size=0.2)\n",
        "training_sentences = []\n",
        "testing_sentences = []\n",
        "\n",
        "\n",
        "train_sentences_comment=train1['Comment'].values\n",
        "train_sentences_post=train1['Post'].values\n",
        "train_labels=train1['Hate'].values\n",
        "for i in range(train_sentences_comment.shape[0]):\n",
        "    x=str(train_sentences_comment[i])+str(train_sentences_post[i])\n",
        "    training_sentences.append(x)\n",
        "\n",
        "training_sentences=np.array(training_sentences)\n",
        "\n",
        "\n",
        "test_sentences_comment=test1['Comment'].values\n",
        "test_sentences_post=test1['Post'].values\n",
        "test_labels=test1['Hate'].values\n",
        "\n",
        "for i in range(test_sentences_comment.shape[0]):\n",
        "    x=str(test_sentences_comment[i])+str(test_sentences_post[i])\n",
        "    testing_sentences.append(x)\n",
        "\n",
        "testing_sentences=np.array(testing_sentences)\n",
        "\n",
        "\n",
        "train_labels=keras.utils.np_utils.to_categorical(train_labels)\n",
        "test_labels=keras.utils.np_utils.to_categorical(test_labels)\n",
        "\n",
        "print(\"Training Set Length: \"+str(len(train1)))\n",
        "print(\"Testing Set Length: \"+str(len(test1)))\n",
        "print(\"training_sentences shape: \"+str(training_sentences.shape))\n",
        "print(\"testing_sentences shape: \"+str(testing_sentences.shape))\n",
        "print(\"train_labels shape: \"+str(train_labels.shape))\n",
        "print(\"test_labels shape: \"+str(test_labels.shape))"
      ],
      "metadata": {
        "colab": {
          "base_uri": "https://localhost:8080/"
        },
        "id": "daso_wwpOxkD",
        "outputId": "0addcb5b-c13e-40e5-ee5a-e8b49c0f458c"
      },
      "execution_count": null,
      "outputs": [
        {
          "output_type": "stream",
          "name": "stdout",
          "text": [
            "Training Set Length: 1600\n",
            "Testing Set Length: 401\n",
            "training_sentences shape: (1600,)\n",
            "testing_sentences shape: (401,)\n",
            "train_labels shape: (1600, 2)\n",
            "test_labels shape: (401, 2)\n"
          ]
        }
      ]
    },
    {
      "cell_type": "markdown",
      "source": [
        "The Processed result is here what you see:"
      ],
      "metadata": {
        "id": "bO5JK797RffY"
      }
    },
    {
      "cell_type": "code",
      "source": [
        "print(training_sentences[10])\n",
        "print(train_labels[10])"
      ],
      "metadata": {
        "colab": {
          "base_uri": "https://localhost:8080/"
        },
        "id": "Lv6FVLBHRgEE",
        "outputId": "d2f97d0e-bfbb-4a48-920a-1a6b125928ef"
      },
      "execution_count": null,
      "outputs": [
        {
          "output_type": "stream",
          "name": "stdout",
          "text": [
            "প্রান ভিক্ষার যেনো প্রশ্নই না আসেআসামীদের যেন কখনও প্রাণভিক্ষা দেয়া না হয়\n",
            "\n",
            "বুয়েট ছাত্র আবরার ফাহাদ হত্যা মামলার রায়ে  জনের মৃত্যুদণ্ড ও  জনকে যাবজ্জীবন কারাদণ্ডের আদেশ দিয়েছেন আদালত ঢাকার এক নম্বর দ্রুত বিচার ট্রাইব্যুনালের বিচারক আবু জাফর মোহাম্মদ কামরুজ্জামান রায় ঘোষণা করেন এ সময় তিনি বলেন বুয়েটের মতো শিক্ষা প্রতিষ্ঠানে এমন নির্মমতা কলঙ্কজনক ঘটনা রায়ে আবরার ফাহাদের বাবা ও মা সন্তোষ প্রকাশ করলেও ন্যায় বিচার না পাওয়ার অভিযোগ করেছে আসামীপক্ষ আবরার ফাহাদের মা বলেন দ্রুতই যেন এই রায় কার্যকর করা হয় এবং আসামীদের যেন কখনও প্রাণভিক্ষা দেয়া না হয়  সালের ই অক্টোবর রাতে বুয়েটের শেরে বাংলা হলের আবাসিক ছাত্র আবরার ফাহাদকে পিটিয়ে হত্যা করে বুয়েটেরই কয়েকজন ছাত্র মামলার রায় ঘোষণার দিন সকালে আটক  আসামিকে কারাগার থেকে আদালতে হাজির করা হয় তাদের উপস্থিতিতে জনাকীর্ণ আদালতে রায় ঘোষণা করেন বিচারক হত্যাকান্ডের  বছর পর এমন নজিরবিহীন রায় দেখলো দেশবাসী\n",
            "[1. 0.]\n"
          ]
        }
      ]
    },
    {
      "cell_type": "markdown",
      "source": [
        "Predefine some variables"
      ],
      "metadata": {
        "id": "NOTfxqheSEm9"
      }
    },
    {
      "cell_type": "code",
      "source": [
        "vocab_size = 25000\n",
        "embedding_dim = 300\n",
        "max_length = 100\n",
        "trunc_type='post'\n",
        "oov_tok = \"<OOV>\"\n",
        "epochSize = 8\n",
        "batchSize = 256"
      ],
      "metadata": {
        "id": "F_avkgwFSGPE"
      },
      "execution_count": null,
      "outputs": []
    },
    {
      "cell_type": "code",
      "source": [
        "print(training_sentences.shape)\n",
        "print(train_labels.shape)"
      ],
      "metadata": {
        "colab": {
          "base_uri": "https://localhost:8080/"
        },
        "id": "GGhDZagnSKaE",
        "outputId": "d9a65f14-493d-4a7c-b3b8-ec03c5396cb9"
      },
      "execution_count": null,
      "outputs": [
        {
          "output_type": "stream",
          "name": "stdout",
          "text": [
            "(1600,)\n",
            "(1600, 2)\n"
          ]
        }
      ]
    },
    {
      "cell_type": "markdown",
      "source": [
        "At first i will tokenize and then i will be padding the sequences.I have used tokenizer only on training dataset to see how the model performs on unseen words"
      ],
      "metadata": {
        "id": "OBRqg-QMSTTE"
      }
    },
    {
      "cell_type": "code",
      "source": [
        "tokenizer = Tokenizer(num_words = vocab_size, oov_token=oov_tok)\n",
        "tokenizer.fit_on_texts(training_sentences)\n",
        "word_index = tokenizer.word_index\n",
        "print(len(word_index))\n",
        "print(\"Word index length:\"+str(len(tokenizer.word_index)))\n",
        "sequences = tokenizer.texts_to_sequences(training_sentences)\n",
        "padded = pad_sequences(sequences,maxlen=max_length, truncating=trunc_type)\n",
        "\n",
        "\n",
        "test_sequences = tokenizer.texts_to_sequences(testing_sentences)\n",
        "testing_padded = pad_sequences(test_sequences,maxlen=max_length)"
      ],
      "metadata": {
        "colab": {
          "base_uri": "https://localhost:8080/"
        },
        "id": "Go9nNjcASUGt",
        "outputId": "be6a14ea-b8dc-41a1-c027-6dc609bd5ed5"
      },
      "execution_count": null,
      "outputs": [
        {
          "output_type": "stream",
          "name": "stdout",
          "text": [
            "11417\n",
            "Word index length:11417\n"
          ]
        }
      ]
    },
    {
      "cell_type": "code",
      "source": [
        "print(\"Sentence :--> \\n\")\n",
        "print(training_sentences[2]+\"\\n\")\n",
        "print(\"Sentence Tokenized and Converted into Sequence :--> \\n\")\n",
        "print(str(sequences[2])+\"\\n\")\n",
        "print(\"After Padding the Sequence with padding length 100 :--> \\n\")\n",
        "print(padded[2])"
      ],
      "metadata": {
        "colab": {
          "base_uri": "https://localhost:8080/"
        },
        "id": "S1MhRlZVSe5F",
        "outputId": "3c6ae15c-c427-4f85-e4a3-f5de16eada44"
      },
      "execution_count": null,
      "outputs": [
        {
          "output_type": "stream",
          "name": "stdout",
          "text": [
            "Sentence :--> \n",
            "\n",
            "আধা মেয়ে হয়ে যেভাবে সবাইকে পাগল করছো 🥴\n",
            "পুরো মেয়ে হলে তোশরীরের যত্ন নিতে শিখুন ফলন এমনিতেই আসবে\n",
            "\n",
            "Sentence Tokenized and Converted into Sequence :--> \n",
            "\n",
            "[5558, 2641, 927, 2039, 977, 1772, 5559, 4363, 267, 2641, 76, 5560, 1607, 149, 2307, 2642, 2308, 823]\n",
            "\n",
            "After Padding the Sequence with padding length 100 :--> \n",
            "\n",
            "[   0    0    0    0    0    0    0    0    0    0    0    0    0    0\n",
            "    0    0    0    0    0    0    0    0    0    0    0    0    0    0\n",
            "    0    0    0    0    0    0    0    0    0    0    0    0    0    0\n",
            "    0    0    0    0    0    0    0    0    0    0    0    0    0    0\n",
            "    0    0    0    0    0    0    0    0    0    0    0    0    0    0\n",
            "    0    0    0    0    0    0    0    0    0    0    0    0 5558 2641\n",
            "  927 2039  977 1772 5559 4363  267 2641   76 5560 1607  149 2307 2642\n",
            " 2308  823]\n"
          ]
        }
      ]
    },
    {
      "cell_type": "code",
      "source": [
        "print(\"Padded shape(training): \"+str(padded.shape))\n",
        "print(\"Padded shape(testing): \"+str(testing_padded.shape))"
      ],
      "metadata": {
        "colab": {
          "base_uri": "https://localhost:8080/"
        },
        "id": "pFuBhTvlSndy",
        "outputId": "076722d7-225b-444a-db97-f4fd280b1e0a"
      },
      "execution_count": null,
      "outputs": [
        {
          "output_type": "stream",
          "name": "stdout",
          "text": [
            "Padded shape(training): (1600, 100)\n",
            "Padded shape(testing): (401, 100)\n"
          ]
        }
      ]
    },
    {
      "cell_type": "markdown",
      "source": [
        "Model Creation"
      ],
      "metadata": {
        "id": "b37Oi8NrSrX0"
      }
    },
    {
      "cell_type": "markdown",
      "source": [
        "At first i have created embeddings from the text.\n",
        "\n",
        "In first layer,i created an conv1D with 200 as filter for CNN.\n",
        "\n",
        "In second & third layer,i have applied two Bi-LSTM with a dropout of .5.\n",
        "\n",
        "In rest of the layer i have applied Dense network.\n",
        "\n",
        "I have used Adap Optimizer with fine tuned hyperparameters.\n",
        "\n",
        "I have also applied L2 regularizations to reduce overfitting as much as possible."
      ],
      "metadata": {
        "id": "ISYGIDHISzrq"
      }
    },
    {
      "cell_type": "markdown",
      "source": [
        "Model 1: CNN"
      ],
      "metadata": {
        "id": "v1NN_4rA7bfN"
      }
    },
    {
      "cell_type": "code",
      "source": [
        "with tf.device('/gpu:0'):\n",
        "    model1 = Sequential()\n",
        "    model1.add(Embedding(vocab_size, embedding_dim, input_length=max_length))\n",
        "    model1.add(Conv1D(200, kernel_size=3, activation = \"relu\"))\n",
        "    model1.add(Dense(50, activation='relu'))\n",
        "    model1.add(Dense(50, activation='relu'))\n",
        "    model1.add(Flatten())\n",
        "    #l2 regularizer\n",
        "    model1.add(Dense(100,kernel_regularizer=regularizers.l2(0.01),activation=\"relu\"))\n",
        "    model1.add(Dense(2, activation='softmax'))\n",
        "    #sgd= SGD(lr=0.0001,decay=1e-6,momentum=0.9,nesterov=True)\n",
        "    adam=Adam(learning_rate=0.0005,beta_1=0.9,beta_2=0.999,epsilon=1e-07,amsgrad=False)\n",
        "    model1.summary()\n",
        "    model1.compile(loss='categorical_crossentropy',optimizer=adam,metrics=['accuracy'])"
      ],
      "metadata": {
        "colab": {
          "base_uri": "https://localhost:8080/"
        },
        "id": "4X4rckc1Sr7y",
        "outputId": "75e43977-ec76-433c-a9a2-8604cad6c4c7"
      },
      "execution_count": null,
      "outputs": [
        {
          "output_type": "stream",
          "name": "stdout",
          "text": [
            "Model: \"sequential\"\n",
            "_________________________________________________________________\n",
            " Layer (type)                Output Shape              Param #   \n",
            "=================================================================\n",
            " embedding (Embedding)       (None, 100, 300)          7500000   \n",
            "                                                                 \n",
            " conv1d (Conv1D)             (None, 98, 200)           180200    \n",
            "                                                                 \n",
            " dense (Dense)               (None, 98, 50)            10050     \n",
            "                                                                 \n",
            " dense_1 (Dense)             (None, 98, 50)            2550      \n",
            "                                                                 \n",
            " flatten (Flatten)           (None, 4900)              0         \n",
            "                                                                 \n",
            " dense_2 (Dense)             (None, 100)               490100    \n",
            "                                                                 \n",
            " dense_3 (Dense)             (None, 2)                 202       \n",
            "                                                                 \n",
            "=================================================================\n",
            "Total params: 8,183,102\n",
            "Trainable params: 8,183,102\n",
            "Non-trainable params: 0\n",
            "_________________________________________________________________\n"
          ]
        }
      ]
    },
    {
      "cell_type": "markdown",
      "source": [
        "Model 2: LSTM"
      ],
      "metadata": {
        "id": "k-V2dAVM5hhI"
      }
    },
    {
      "cell_type": "code",
      "source": [
        "with tf.device('/gpu:0'):\n",
        "    model2 = Sequential()\n",
        "    model2.add(Embedding(vocab_size, embedding_dim, input_length=max_length))\n",
        "\n",
        "    model2.add(Bidirectional(LSTM(64, return_sequences=True)))\n",
        "    model2.add(Dropout(0.5))\n",
        "    model2.add(Bidirectional(LSTM(64)))\n",
        "    model2.add(Dense(50, activation='relu'))\n",
        "    model2.add(Dense(50, activation='relu'))\n",
        "    model2.add(Flatten())\n",
        "\n",
        "    #l2 regularizer\n",
        "    model2.add(Dense(100,kernel_regularizer=regularizers.l2(0.01),activation=\"relu\"))\n",
        "    model2.add(Dense(2, activation='softmax'))\n",
        "\n",
        "    #sgd= SGD(lr=0.0001,decay=1e-6,momentum=0.9,nesterov=True)\n",
        "    adam=Adam(learning_rate=0.0005,beta_1=0.9,beta_2=0.999,epsilon=1e-07,amsgrad=False)\n",
        "    model2.summary()\n",
        "    model2.compile(loss='categorical_crossentropy',optimizer=adam,metrics=['accuracy'])"
      ],
      "metadata": {
        "colab": {
          "base_uri": "https://localhost:8080/"
        },
        "id": "bDFzq65W5keQ",
        "outputId": "b34c1c09-7ca9-4a63-b76e-34214f36af56"
      },
      "execution_count": null,
      "outputs": [
        {
          "output_type": "stream",
          "name": "stdout",
          "text": [
            "Model: \"sequential_1\"\n",
            "_________________________________________________________________\n",
            " Layer (type)                Output Shape              Param #   \n",
            "=================================================================\n",
            " embedding_1 (Embedding)     (None, 100, 300)          7500000   \n",
            "                                                                 \n",
            " bidirectional (Bidirectiona  (None, 100, 128)         186880    \n",
            " l)                                                              \n",
            "                                                                 \n",
            " dropout (Dropout)           (None, 100, 128)          0         \n",
            "                                                                 \n",
            " bidirectional_1 (Bidirectio  (None, 128)              98816     \n",
            " nal)                                                            \n",
            "                                                                 \n",
            " dense_4 (Dense)             (None, 50)                6450      \n",
            "                                                                 \n",
            " dense_5 (Dense)             (None, 50)                2550      \n",
            "                                                                 \n",
            " flatten_1 (Flatten)         (None, 50)                0         \n",
            "                                                                 \n",
            " dense_6 (Dense)             (None, 100)               5100      \n",
            "                                                                 \n",
            " dense_7 (Dense)             (None, 2)                 202       \n",
            "                                                                 \n",
            "=================================================================\n",
            "Total params: 7,799,998\n",
            "Trainable params: 7,799,998\n",
            "Non-trainable params: 0\n",
            "_________________________________________________________________\n"
          ]
        }
      ]
    },
    {
      "cell_type": "markdown",
      "source": [
        "Model 3: CNN+LSTM"
      ],
      "metadata": {
        "id": "h_wPoIUZ75ae"
      }
    },
    {
      "cell_type": "code",
      "source": [
        "with tf.device('/gpu:0'):\n",
        "    model3= Sequential()\n",
        "    model3.add(Embedding(vocab_size, embedding_dim, input_length=max_length))\n",
        "    model3.add(Conv1D(200, kernel_size=3, activation = \"relu\"))\n",
        "    model3.add(Bidirectional(LSTM(64, return_sequences=True)))\n",
        "    model3.add(Dropout(0.5))\n",
        "    model3.add(Bidirectional(LSTM(64)))\n",
        "    model3.add(Dense(50, activation='relu'))\n",
        "    model3.add(Dense(50, activation='relu'))\n",
        "    model3.add(Flatten())\n",
        "    #l2 regularizer\n",
        "    model3.add(Dense(100,kernel_regularizer=regularizers.l2(0.01),activation=\"relu\"))\n",
        "    model3.add(Dense(2, activation='softmax'))\n",
        "    #sgd= SGD(lr=0.0001,decay=1e-6,momentum=0.9,nesterov=True)\n",
        "    adam=Adam(learning_rate=0.0005,beta_1=0.9,beta_2=0.999,epsilon=1e-07,amsgrad=False)\n",
        "    model3.summary()\n",
        "    model3.compile(loss='categorical_crossentropy',optimizer=adam,metrics=['accuracy'])"
      ],
      "metadata": {
        "colab": {
          "base_uri": "https://localhost:8080/"
        },
        "id": "ek81OrDe78Yg",
        "outputId": "6e4e13a5-1678-496a-a403-2e830e57b4e2"
      },
      "execution_count": null,
      "outputs": [
        {
          "output_type": "stream",
          "name": "stdout",
          "text": [
            "Model: \"sequential_11\"\n",
            "_________________________________________________________________\n",
            " Layer (type)                Output Shape              Param #   \n",
            "=================================================================\n",
            " embedding_11 (Embedding)    (None, 100, 300)          7500000   \n",
            "                                                                 \n",
            " conv1d_8 (Conv1D)           (None, 98, 200)           180200    \n",
            "                                                                 \n",
            " bidirectional_10 (Bidirecti  (None, 98, 128)          135680    \n",
            " onal)                                                           \n",
            "                                                                 \n",
            " dropout_5 (Dropout)         (None, 98, 128)           0         \n",
            "                                                                 \n",
            " bidirectional_11 (Bidirecti  (None, 128)              98816     \n",
            " onal)                                                           \n",
            "                                                                 \n",
            " dense_44 (Dense)            (None, 50)                6450      \n",
            "                                                                 \n",
            " dense_45 (Dense)            (None, 50)                2550      \n",
            "                                                                 \n",
            " flatten_11 (Flatten)        (None, 50)                0         \n",
            "                                                                 \n",
            " dense_46 (Dense)            (None, 100)               5100      \n",
            "                                                                 \n",
            " dense_47 (Dense)            (None, 2)                 202       \n",
            "                                                                 \n",
            "=================================================================\n",
            "Total params: 7,928,998\n",
            "Trainable params: 7,928,998\n",
            "Non-trainable params: 0\n",
            "_________________________________________________________________\n"
          ]
        }
      ]
    },
    {
      "cell_type": "markdown",
      "source": [
        "trained the model for 5 epochs with batch size 256."
      ],
      "metadata": {
        "id": "g1vFc2oQTFqF"
      }
    },
    {
      "cell_type": "code",
      "source": [
        "history1 = model1.fit(padded, train_labels, epochs=5, batch_size=batchSize, validation_data=(testing_padded,test_labels),use_multiprocessing=True, workers=8)\n",
        "history2 = model2.fit(padded, train_labels, epochs=5, batch_size=batchSize, validation_data=(testing_padded,test_labels),use_multiprocessing=True, workers=8, verbose = 2,validation_split=0.1)\n",
        "history3 = model3.fit(padded, train_labels, epochs=5, batch_size=batchSize, validation_data=(testing_padded,test_labels),use_multiprocessing=True, workers=8)"
      ],
      "metadata": {
        "colab": {
          "base_uri": "https://localhost:8080/"
        },
        "id": "h2nW-YEdTG-M",
        "outputId": "910bae0c-98ea-4734-9378-874b87473d6b"
      },
      "execution_count": null,
      "outputs": [
        {
          "output_type": "stream",
          "name": "stdout",
          "text": [
            "Epoch 1/5\n",
            "7/7 [==============================] - 6s 764ms/step - loss: 2.4274 - accuracy: 0.5763 - val_loss: 2.1008 - val_accuracy: 0.6272\n",
            "Epoch 2/5\n",
            "7/7 [==============================] - 5s 724ms/step - loss: 1.9280 - accuracy: 0.7327 - val_loss: 1.6859 - val_accuracy: 0.6574\n",
            "Epoch 3/5\n",
            "7/7 [==============================] - 5s 718ms/step - loss: 1.5151 - accuracy: 0.6992 - val_loss: 1.3519 - val_accuracy: 0.7128\n",
            "Epoch 4/5\n",
            "7/7 [==============================] - 5s 721ms/step - loss: 1.1491 - accuracy: 0.8588 - val_loss: 1.0717 - val_accuracy: 0.7985\n",
            "Epoch 5/5\n",
            "7/7 [==============================] - 5s 723ms/step - loss: 0.8395 - accuracy: 0.8884 - val_loss: 0.9070 - val_accuracy: 0.8136\n",
            "Epoch 1/5\n",
            "6/6 - 20s - loss: 1.3452 - accuracy: 0.5690 - val_loss: 1.3248 - val_accuracy: 0.5346 - 20s/epoch - 3s/step\n",
            "Epoch 2/5\n",
            "6/6 - 9s - loss: 1.3017 - accuracy: 0.5893 - val_loss: 1.2847 - val_accuracy: 0.5346 - 9s/epoch - 2s/step\n",
            "Epoch 3/5\n",
            "6/6 - 9s - loss: 1.2436 - accuracy: 0.5943 - val_loss: 1.2113 - val_accuracy: 0.5723 - 9s/epoch - 2s/step\n",
            "Epoch 4/5\n",
            "6/6 - 9s - loss: 1.1435 - accuracy: 0.7323 - val_loss: 1.0606 - val_accuracy: 0.8616 - 9s/epoch - 2s/step\n",
            "Epoch 5/5\n",
            "6/6 - 9s - loss: 0.9796 - accuracy: 0.8563 - val_loss: 0.9088 - val_accuracy: 0.8679 - 9s/epoch - 2s/step\n",
            "Epoch 1/5\n",
            "7/7 [==============================] - 23s 2s/step - loss: 1.3427 - accuracy: 0.5883 - val_loss: 1.3095 - val_accuracy: 0.5945\n",
            "Epoch 2/5\n",
            "7/7 [==============================] - 14s 2s/step - loss: 1.2827 - accuracy: 0.5839 - val_loss: 1.2429 - val_accuracy: 0.5945\n",
            "Epoch 3/5\n",
            "7/7 [==============================] - 14s 2s/step - loss: 1.1744 - accuracy: 0.6255 - val_loss: 1.1431 - val_accuracy: 0.7406\n",
            "Epoch 4/5\n",
            "7/7 [==============================] - 14s 2s/step - loss: 1.0092 - accuracy: 0.8468 - val_loss: 1.0737 - val_accuracy: 0.7078\n",
            "Epoch 5/5\n",
            "7/7 [==============================] - 14s 2s/step - loss: 0.8681 - accuracy: 0.8903 - val_loss: 1.0976 - val_accuracy: 0.7330\n"
          ]
        }
      ]
    },
    {
      "cell_type": "markdown",
      "source": [
        "# Visualization"
      ],
      "metadata": {
        "id": "Ibp9eQojTOo9"
      }
    },
    {
      "cell_type": "code",
      "source": [
        "#plotting loss for CNN\n",
        "loss = history1.history['loss']\n",
        "val_loss = history1.history['val_loss']\n",
        "plt.plot(loss)\n",
        "plt.plot(val_loss)\n",
        "plt.title('CNN Model loss')\n",
        "plt.ylabel('loss')\n",
        "plt.xlabel('epoch')\n",
        "plt.legend(['loss', 'val_loss'])\n",
        "plt.show()\n",
        "print('\\n')\n",
        "accuracy = history1.history['accuracy']\n",
        "val_accuracy= history1.history['val_accuracy']\n",
        "plt.plot(accuracy)\n",
        "plt.plot(val_accuracy)\n",
        "plt.title('CNN Model accuracy')\n",
        "plt.ylabel('accuracy')\n",
        "plt.xlabel('epoch')\n",
        "plt.legend(['accuracy', 'val_accuracy'])\n",
        "plt.show()\n",
        "print('\\n')\n",
        "\n",
        "\n",
        "#plotting loss for Bi-LSTM\n",
        "loss = history2.history['loss']\n",
        "val_loss = history2.history['val_loss']\n",
        "plt.plot(loss)\n",
        "plt.plot(val_loss)\n",
        "plt.title('LSTM Model loss')\n",
        "plt.ylabel('loss')\n",
        "plt.xlabel('epoch')\n",
        "plt.legend(['loss', 'val_loss'])\n",
        "plt.show()\n",
        "print('\\n')\n",
        "accuracy = history2.history['accuracy']\n",
        "val_accuracy= history2.history['val_accuracy']\n",
        "plt.plot(accuracy)\n",
        "plt.plot(val_accuracy)\n",
        "plt.title('LSTM Model accuracy')\n",
        "plt.ylabel('accuracy')\n",
        "plt.xlabel('epoch')\n",
        "plt.legend(['accuracy', 'val_accuracy'])\n",
        "plt.show()\n",
        "print('\\n')\n",
        "\n",
        "\n",
        "#plotting loss for CNN+LSTM\n",
        "loss = history3.history['loss']\n",
        "val_loss = history3.history['val_loss']\n",
        "plt.plot(loss)\n",
        "plt.plot(val_loss)\n",
        "plt.title('CNN + LSTM Model loss')\n",
        "plt.ylabel('loss')\n",
        "plt.xlabel('epoch')\n",
        "plt.legend(['loss', 'val_loss'])\n",
        "plt.show()\n",
        "print('\\n')\n",
        "accuracy = history3.history['accuracy']\n",
        "val_accuracy= history3.history['val_accuracy']\n",
        "plt.plot(accuracy)\n",
        "plt.plot(val_accuracy)\n",
        "plt.title('CNN + LSTM Model accuracy')\n",
        "plt.ylabel('accuracy')\n",
        "plt.xlabel('epoch')\n",
        "plt.legend(['accuracy', 'val_accuracy'])\n",
        "plt.show()"
      ],
      "metadata": {
        "colab": {
          "base_uri": "https://localhost:8080/",
          "height": 1000
        },
        "id": "CijqqrDETSJV",
        "outputId": "e6584902-89f5-4367-869c-ff71837a286b"
      },
      "execution_count": null,
      "outputs": [
        {
          "output_type": "display_data",
          "data": {
            "text/plain": [
              "<Figure size 432x288 with 1 Axes>"
            ],
            "image/png": "[encoded data removed]"
          },
          "metadata": {
            "needs_background": "light"
          }
        },
        {
          "output_type": "stream",
          "name": "stdout",
          "text": [
            "\n",
            "\n"
          ]
        },
        {
          "output_type": "display_data",
          "data": {
            "text/plain": [
              "<Figure size 432x288 with 1 Axes>"
            ],
            "image/png": "[encoded data removed]"
          },
          "metadata": {
            "needs_background": "light"
          }
        },
        {
          "output_type": "stream",
          "name": "stdout",
          "text": [
            "\n",
            "\n"
          ]
        },
        {
          "output_type": "display_data",
          "data": {
            "text/plain": [
              "<Figure size 432x288 with 1 Axes>"
            ],
            "image/png": "[encoded data removed]"
          },
          "metadata": {
            "needs_background": "light"
          }
        },
        {
          "output_type": "stream",
          "name": "stdout",
          "text": [
            "\n",
            "\n"
          ]
        },
        {
          "output_type": "display_data",
          "data": {
            "text/plain": [
              "<Figure size 432x288 with 1 Axes>"
            ],
            "image/png": "[encoded data removed]"
          },
          "metadata": {
            "needs_background": "light"
          }
        },
        {
          "output_type": "stream",
          "name": "stdout",
          "text": [
            "\n",
            "\n"
          ]
        },
        {
          "output_type": "display_data",
          "data": {
            "text/plain": [
              "<Figure size 432x288 with 1 Axes>"
            ],
            "image/png": "[encoded data removed]"
          },
          "metadata": {
            "needs_background": "light"
          }
        },
        {
          "output_type": "stream",
          "name": "stdout",
          "text": [
            "\n",
            "\n"
          ]
        },
        {
          "output_type": "display_data",
          "data": {
            "text/plain": [
              "<Figure size 432x288 with 1 Axes>"
            ],
            "image/png": "[encoded data removed]"
          },
          "metadata": {
            "needs_background": "light"
          }
        }
      ]
    },
    {
      "cell_type": "markdown",
      "source": [
        "# Accuracy and Evaluation"
      ],
      "metadata": {
        "id": "Uih9uM8sUVJb"
      }
    },
    {
      "cell_type": "code",
      "source": [
        "#accuracy calculation for CNN\n",
        "print(\"---------For CNN---------\")\n",
        "loss_and_metrics = model1.evaluate(padded,train_labels,batch_size=256)\n",
        "print(\"Train accuracy is: \"+str(loss_and_metrics[1]))\n",
        "loss_and_metrics = model1.evaluate(testing_padded,test_labels,batch_size=256)\n",
        "print(\"Test accuracy is: \"+str(loss_and_metrics[1]))\n",
        "\n",
        "#accuracy calculation for LSTM\n",
        "print(\"\\n---------For CNN---------\")\n",
        "loss_and_metrics = model2.evaluate(padded,train_labels,batch_size=256)\n",
        "print(\"Train accuracy is: \"+str(loss_and_metrics[1]))\n",
        "loss_and_metrics = model2.evaluate(testing_padded,test_labels,batch_size=256)\n",
        "print(\"Test accuracy is: \"+str(loss_and_metrics[1]))\n",
        "\n",
        "#accuracy calculation for CNN+LSTM\n",
        "print(\"\\n---------For CNN---------\")\n",
        "loss_and_metrics = model3.evaluate(padded,train_labels,batch_size=256)\n",
        "print(\"Train accuracy is: \"+str(loss_and_metrics[1]))\n",
        "loss_and_metrics = model3.evaluate(testing_padded,test_labels,batch_size=256)\n",
        "print(\"Test accuracy is: \"+str(loss_and_metrics[1]))"
      ],
      "metadata": {
        "colab": {
          "base_uri": "https://localhost:8080/"
        },
        "id": "FLI0diFcUV7_",
        "outputId": "302ef327-a5c8-4a22-8c31-06ff7ebc1481"
      },
      "execution_count": null,
      "outputs": [
        {
          "output_type": "stream",
          "name": "stdout",
          "text": [
            "---------For CNN---------\n",
            "7/7 [==============================] - 1s 165ms/step - loss: 0.6657 - accuracy: 0.9029\n",
            "Train accuracy is: 0.9029003977775574\n",
            "2/2 [==============================] - 0s 110ms/step - loss: 0.8814 - accuracy: 0.7708\n",
            "Test accuracy is: 0.7707808613777161\n",
            "\n",
            "---------For CNN---------\n",
            "7/7 [==============================] - 3s 414ms/step - loss: 0.8710 - accuracy: 0.8815\n",
            "Train accuracy is: 0.881462812423706\n",
            "2/2 [==============================] - 1s 300ms/step - loss: 1.0210 - accuracy: 0.7657\n",
            "Test accuracy is: 0.7657430768013\n",
            "\n",
            "---------For CNN---------\n",
            "7/7 [==============================] - 4s 491ms/step - loss: 0.8822 - accuracy: 0.8890\n",
            "Train accuracy is: 0.8890290260314941\n",
            "2/2 [==============================] - 1s 335ms/step - loss: 1.0670 - accuracy: 0.7758\n",
            "Test accuracy is: 0.7758186459541321\n"
          ]
        }
      ]
    },
    {
      "cell_type": "code",
      "source": [
        "#CNN\n",
        "Y_pred1 = model1.predict(testing_padded)\n",
        "\n",
        "Y_pred1=np.argmax(Y_pred1, axis=1)\n",
        "Y_test1=np.argmax(test_labels, axis=1)\n",
        "\n",
        "labels = ['Non Hate', 'Hate']\n",
        "print(classification_report(Y_test1, Y_pred1))\n",
        "\n",
        "pd.DataFrame(confusion_matrix(Y_test1, Y_pred1), index=labels, columns=labels)"
      ],
      "metadata": {
        "colab": {
          "base_uri": "https://localhost:8080/",
          "height": 268
        },
        "id": "2kgzrZXpUzqs",
        "outputId": "9a32e85a-7b9b-48d0-b0cc-c733cd2557f7"
      },
      "execution_count": null,
      "outputs": [
        {
          "output_type": "stream",
          "name": "stdout",
          "text": [
            "              precision    recall  f1-score   support\n",
            "\n",
            "           0       0.71      0.74      0.72       161\n",
            "           1       0.82      0.79      0.80       236\n",
            "\n",
            "    accuracy                           0.77       397\n",
            "   macro avg       0.76      0.77      0.76       397\n",
            "weighted avg       0.77      0.77      0.77       397\n",
            "\n"
          ]
        },
        {
          "output_type": "execute_result",
          "data": {
            "text/plain": [
              "          Non Hate  Hate\n",
              "Non Hate       119    42\n",
              "Hate            49   187"
            ],
            "text/html": [
              "\n",
              "  <div id=\"df-6522c8db-249f-4f42-90be-2cd7c757c192\">\n",
              "    <div class=\"colab-df-container\">\n",
              "      <div>\n",
              "<style scoped>\n",
              "    .dataframe tbody tr th:only-of-type {\n",
              "        vertical-align: middle;\n",
              "    }\n",
              "\n",
              "    .dataframe tbody tr th {\n",
              "        vertical-align: top;\n",
              "    }\n",
              "\n",
              "    .dataframe thead th {\n",
              "        text-align: right;\n",
              "    }\n",
              "</style>\n",
              "<table border=\"1\" class=\"dataframe\">\n",
              "  <thead>\n",
              "    <tr style=\"text-align: right;\">\n",
              "      <th></th>\n",
              "      <th>Non Hate</th>\n",
              "      <th>Hate</th>\n",
              "    </tr>\n",
              "  </thead>\n",
              "  <tbody>\n",
              "    <tr>\n",
              "      <th>Non Hate</th>\n",
              "      <td>119</td>\n",
              "      <td>42</td>\n",
              "    </tr>\n",
              "    <tr>\n",
              "      <th>Hate</th>\n",
              "      <td>49</td>\n",
              "      <td>187</td>\n",
              "    </tr>\n",
              "  </tbody>\n",
              "</table>\n",
              "</div>\n",
              "      <button class=\"colab-df-convert\" onclick=\"convertToInteractive('df-6522c8db-249f-4f42-90be-2cd7c757c192')\"\n",
              "              title=\"Convert this dataframe to an interactive table.\"\n",
              "              style=\"display:none;\">\n",
              "        \n",
              "  <svg xmlns=\"http://www.w3.org/2000/svg\" height=\"24px\"viewBox=\"0 0 24 24\"\n",
              "       width=\"24px\">\n",
              "    <path d=\"M0 0h24v24H0V0z\" fill=\"none\"/>\n",
              "    <path d=\"M18.56 5.44l.94 2.06.94-2.06 2.06-.94-2.06-.94-.94-2.06-.94 2.06-2.06.94zm-11 1L8.5 8.5l.94-2.06 2.06-.94-2.06-.94L8.5 2.5l-.94 2.06-2.06.94zm10 10l.94 2.06.94-2.06 2.06-.94-2.06-.94-.94-2.06-.94 2.06-2.06.94z\"/><path d=\"M17.41 7.96l-1.37-1.37c-.4-.4-.92-.59-1.43-.59-.52 0-1.04.2-1.43.59L10.3 9.45l-7.72 7.72c-.78.78-.78 2.05 0 2.83L4 21.41c.39.39.9.59 1.41.59.51 0 1.02-.2 1.41-.59l7.78-7.78 2.81-2.81c.8-.78.8-2.07 0-2.86zM5.41 20L4 18.59l7.72-7.72 1.47 1.35L5.41 20z\"/>\n",
              "  </svg>\n",
              "      </button>\n",
              "      \n",
              "  <style>\n",
              "    .colab-df-container {\n",
              "      display:flex;\n",
              "      flex-wrap:wrap;\n",
              "      gap: 12px;\n",
              "    }\n",
              "\n",
              "    .colab-df-convert {\n",
              "      background-color: #E8F0FE;\n",
              "      border: none;\n",
              "      border-radius: 50%;\n",
              "      cursor: pointer;\n",
              "      display: none;\n",
              "      fill: #1967D2;\n",
              "      height: 32px;\n",
              "      padding: 0 0 0 0;\n",
              "      width: 32px;\n",
              "    }\n",
              "\n",
              "    .colab-df-convert:hover {\n",
              "      background-color: #E2EBFA;\n",
              "      box-shadow: 0px 1px 2px rgba(60, 64, 67, 0.3), 0px 1px 3px 1px rgba(60, 64, 67, 0.15);\n",
              "      fill: #174EA6;\n",
              "    }\n",
              "\n",
              "    [theme=dark] .colab-df-convert {\n",
              "      background-color: #3B4455;\n",
              "      fill: #D2E3FC;\n",
              "    }\n",
              "\n",
              "    [theme=dark] .colab-df-convert:hover {\n",
              "      background-color: #434B5C;\n",
              "      box-shadow: 0px 1px 3px 1px rgba(0, 0, 0, 0.15);\n",
              "      filter: drop-shadow(0px 1px 2px rgba(0, 0, 0, 0.3));\n",
              "      fill: #FFFFFF;\n",
              "    }\n",
              "  </style>\n",
              "\n",
              "      <script>\n",
              "        const buttonEl =\n",
              "          document.querySelector('#df-6522c8db-249f-4f42-90be-2cd7c757c192 button.colab-df-convert');\n",
              "        buttonEl.style.display =\n",
              "          google.colab.kernel.accessAllowed ? 'block' : 'none';\n",
              "\n",
              "        async function convertToInteractive(key) {\n",
              "          const element = document.querySelector('#df-6522c8db-249f-4f42-90be-2cd7c757c192');\n",
              "          const dataTable =\n",
              "            await google.colab.kernel.invokeFunction('convertToInteractive',\n",
              "                                                     [key], {});\n",
              "          if (!dataTable) return;\n",
              "\n",
              "          const docLinkHtml = 'Like what you see? Visit the ' +\n",
              "            '<a target=\"_blank\" href=https://colab.research.google.com/notebooks/data_table.ipynb>data table notebook</a>'\n",
              "            + ' to learn more about interactive tables.';\n",
              "          element.innerHTML = '';\n",
              "          dataTable['output_type'] = 'display_data';\n",
              "          await google.colab.output.renderOutput(dataTable, element);\n",
              "          const docLink = document.createElement('div');\n",
              "          docLink.innerHTML = docLinkHtml;\n",
              "          element.appendChild(docLink);\n",
              "        }\n",
              "      </script>\n",
              "    </div>\n",
              "  </div>\n",
              "  "
            ]
          },
          "metadata": {},
          "execution_count": 87
        }
      ]
    },
    {
      "cell_type": "code",
      "source": [
        "#LSTM\n",
        "Y_pred2 = model2.predict(testing_padded)\n",
        "\n",
        "Y_pred2=np.argmax(Y_pred2, axis=1)\n",
        "Y_test2=np.argmax(test_labels, axis=1)\n",
        "\n",
        "labels = ['Non Hate', 'Hate']\n",
        "print(classification_report(Y_test2, Y_pred2))\n",
        "\n",
        "pd.DataFrame(confusion_matrix(Y_test2, Y_pred2), index=labels, columns=labels)"
      ],
      "metadata": {
        "colab": {
          "base_uri": "https://localhost:8080/",
          "height": 268
        },
        "id": "pMndNpzxCGWD",
        "outputId": "2ff3c129-4377-439f-c669-0fecb786fade"
      },
      "execution_count": null,
      "outputs": [
        {
          "output_type": "stream",
          "name": "stdout",
          "text": [
            "              precision    recall  f1-score   support\n",
            "\n",
            "           0       0.69      0.76      0.72       161\n",
            "           1       0.82      0.77      0.80       236\n",
            "\n",
            "    accuracy                           0.77       397\n",
            "   macro avg       0.76      0.76      0.76       397\n",
            "weighted avg       0.77      0.77      0.77       397\n",
            "\n"
          ]
        },
        {
          "output_type": "execute_result",
          "data": {
            "text/plain": [
              "          Non Hate  Hate\n",
              "Non Hate       122    39\n",
              "Hate            54   182"
            ],
            "text/html": [
              "\n",
              "  <div id=\"df-0195ebd3-9f54-4059-a51c-0eeaa67d7f0d\">\n",
              "    <div class=\"colab-df-container\">\n",
              "      <div>\n",
              "<style scoped>\n",
              "    .dataframe tbody tr th:only-of-type {\n",
              "        vertical-align: middle;\n",
              "    }\n",
              "\n",
              "    .dataframe tbody tr th {\n",
              "        vertical-align: top;\n",
              "    }\n",
              "\n",
              "    .dataframe thead th {\n",
              "        text-align: right;\n",
              "    }\n",
              "</style>\n",
              "<table border=\"1\" class=\"dataframe\">\n",
              "  <thead>\n",
              "    <tr style=\"text-align: right;\">\n",
              "      <th></th>\n",
              "      <th>Non Hate</th>\n",
              "      <th>Hate</th>\n",
              "    </tr>\n",
              "  </thead>\n",
              "  <tbody>\n",
              "    <tr>\n",
              "      <th>Non Hate</th>\n",
              "      <td>122</td>\n",
              "      <td>39</td>\n",
              "    </tr>\n",
              "    <tr>\n",
              "      <th>Hate</th>\n",
              "      <td>54</td>\n",
              "      <td>182</td>\n",
              "    </tr>\n",
              "  </tbody>\n",
              "</table>\n",
              "</div>\n",
              "      <button class=\"colab-df-convert\" onclick=\"convertToInteractive('df-0195ebd3-9f54-4059-a51c-0eeaa67d7f0d')\"\n",
              "              title=\"Convert this dataframe to an interactive table.\"\n",
              "              style=\"display:none;\">\n",
              "        \n",
              "  <svg xmlns=\"http://www.w3.org/2000/svg\" height=\"24px\"viewBox=\"0 0 24 24\"\n",
              "       width=\"24px\">\n",
              "    <path d=\"M0 0h24v24H0V0z\" fill=\"none\"/>\n",
              "    <path d=\"M18.56 5.44l.94 2.06.94-2.06 2.06-.94-2.06-.94-.94-2.06-.94 2.06-2.06.94zm-11 1L8.5 8.5l.94-2.06 2.06-.94-2.06-.94L8.5 2.5l-.94 2.06-2.06.94zm10 10l.94 2.06.94-2.06 2.06-.94-2.06-.94-.94-2.06-.94 2.06-2.06.94z\"/><path d=\"M17.41 7.96l-1.37-1.37c-.4-.4-.92-.59-1.43-.59-.52 0-1.04.2-1.43.59L10.3 9.45l-7.72 7.72c-.78.78-.78 2.05 0 2.83L4 21.41c.39.39.9.59 1.41.59.51 0 1.02-.2 1.41-.59l7.78-7.78 2.81-2.81c.8-.78.8-2.07 0-2.86zM5.41 20L4 18.59l7.72-7.72 1.47 1.35L5.41 20z\"/>\n",
              "  </svg>\n",
              "      </button>\n",
              "      \n",
              "  <style>\n",
              "    .colab-df-container {\n",
              "      display:flex;\n",
              "      flex-wrap:wrap;\n",
              "      gap: 12px;\n",
              "    }\n",
              "\n",
              "    .colab-df-convert {\n",
              "      background-color: #E8F0FE;\n",
              "      border: none;\n",
              "      border-radius: 50%;\n",
              "      cursor: pointer;\n",
              "      display: none;\n",
              "      fill: #1967D2;\n",
              "      height: 32px;\n",
              "      padding: 0 0 0 0;\n",
              "      width: 32px;\n",
              "    }\n",
              "\n",
              "    .colab-df-convert:hover {\n",
              "      background-color: #E2EBFA;\n",
              "      box-shadow: 0px 1px 2px rgba(60, 64, 67, 0.3), 0px 1px 3px 1px rgba(60, 64, 67, 0.15);\n",
              "      fill: #174EA6;\n",
              "    }\n",
              "\n",
              "    [theme=dark] .colab-df-convert {\n",
              "      background-color: #3B4455;\n",
              "      fill: #D2E3FC;\n",
              "    }\n",
              "\n",
              "    [theme=dark] .colab-df-convert:hover {\n",
              "      background-color: #434B5C;\n",
              "      box-shadow: 0px 1px 3px 1px rgba(0, 0, 0, 0.15);\n",
              "      filter: drop-shadow(0px 1px 2px rgba(0, 0, 0, 0.3));\n",
              "      fill: #FFFFFF;\n",
              "    }\n",
              "  </style>\n",
              "\n",
              "      <script>\n",
              "        const buttonEl =\n",
              "          document.querySelector('#df-0195ebd3-9f54-4059-a51c-0eeaa67d7f0d button.colab-df-convert');\n",
              "        buttonEl.style.display =\n",
              "          google.colab.kernel.accessAllowed ? 'block' : 'none';\n",
              "\n",
              "        async function convertToInteractive(key) {\n",
              "          const element = document.querySelector('#df-0195ebd3-9f54-4059-a51c-0eeaa67d7f0d');\n",
              "          const dataTable =\n",
              "            await google.colab.kernel.invokeFunction('convertToInteractive',\n",
              "                                                     [key], {});\n",
              "          if (!dataTable) return;\n",
              "\n",
              "          const docLinkHtml = 'Like what you see? Visit the ' +\n",
              "            '<a target=\"_blank\" href=https://colab.research.google.com/notebooks/data_table.ipynb>data table notebook</a>'\n",
              "            + ' to learn more about interactive tables.';\n",
              "          element.innerHTML = '';\n",
              "          dataTable['output_type'] = 'display_data';\n",
              "          await google.colab.output.renderOutput(dataTable, element);\n",
              "          const docLink = document.createElement('div');\n",
              "          docLink.innerHTML = docLinkHtml;\n",
              "          element.appendChild(docLink);\n",
              "        }\n",
              "      </script>\n",
              "    </div>\n",
              "  </div>\n",
              "  "
            ]
          },
          "metadata": {},
          "execution_count": 88
        }
      ]
    },
    {
      "cell_type": "code",
      "source": [
        "#CNN + LSTM\n",
        "Y_pred3 = model3.predict(testing_padded)\n",
        "\n",
        "Y_pred3=np.argmax(Y_pred3, axis=1)\n",
        "Y_test3=np.argmax(test_labels, axis=1)\n",
        "\n",
        "labels = ['Non Hate', 'Hate']\n",
        "print(classification_report(Y_test3, Y_pred3))\n",
        "\n",
        "pd.DataFrame(confusion_matrix(Y_test3, Y_pred3), index=labels, columns=labels)"
      ],
      "metadata": {
        "colab": {
          "base_uri": "https://localhost:8080/",
          "height": 268
        },
        "id": "kV_y9aK6CPop",
        "outputId": "465ae39b-f187-4026-f2e7-4394768883a6"
      },
      "execution_count": null,
      "outputs": [
        {
          "output_type": "stream",
          "name": "stdout",
          "text": [
            "              precision    recall  f1-score   support\n",
            "\n",
            "           0       0.71      0.75      0.73       161\n",
            "           1       0.82      0.80      0.81       236\n",
            "\n",
            "    accuracy                           0.78       397\n",
            "   macro avg       0.77      0.77      0.77       397\n",
            "weighted avg       0.78      0.78      0.78       397\n",
            "\n"
          ]
        },
        {
          "output_type": "execute_result",
          "data": {
            "text/plain": [
              "          Non Hate  Hate\n",
              "Non Hate       120    41\n",
              "Hate            48   188"
            ],
            "text/html": [
              "\n",
              "  <div id=\"df-033a9e9a-5043-49ee-92e5-b18cd5e5c9a8\">\n",
              "    <div class=\"colab-df-container\">\n",
              "      <div>\n",
              "<style scoped>\n",
              "    .dataframe tbody tr th:only-of-type {\n",
              "        vertical-align: middle;\n",
              "    }\n",
              "\n",
              "    .dataframe tbody tr th {\n",
              "        vertical-align: top;\n",
              "    }\n",
              "\n",
              "    .dataframe thead th {\n",
              "        text-align: right;\n",
              "    }\n",
              "</style>\n",
              "<table border=\"1\" class=\"dataframe\">\n",
              "  <thead>\n",
              "    <tr style=\"text-align: right;\">\n",
              "      <th></th>\n",
              "      <th>Non Hate</th>\n",
              "      <th>Hate</th>\n",
              "    </tr>\n",
              "  </thead>\n",
              "  <tbody>\n",
              "    <tr>\n",
              "      <th>Non Hate</th>\n",
              "      <td>120</td>\n",
              "      <td>41</td>\n",
              "    </tr>\n",
              "    <tr>\n",
              "      <th>Hate</th>\n",
              "      <td>48</td>\n",
              "      <td>188</td>\n",
              "    </tr>\n",
              "  </tbody>\n",
              "</table>\n",
              "</div>\n",
              "      <button class=\"colab-df-convert\" onclick=\"convertToInteractive('df-033a9e9a-5043-49ee-92e5-b18cd5e5c9a8')\"\n",
              "              title=\"Convert this dataframe to an interactive table.\"\n",
              "              style=\"display:none;\">\n",
              "        \n",
              "  <svg xmlns=\"http://www.w3.org/2000/svg\" height=\"24px\"viewBox=\"0 0 24 24\"\n",
              "       width=\"24px\">\n",
              "    <path d=\"M0 0h24v24H0V0z\" fill=\"none\"/>\n",
              "    <path d=\"M18.56 5.44l.94 2.06.94-2.06 2.06-.94-2.06-.94-.94-2.06-.94 2.06-2.06.94zm-11 1L8.5 8.5l.94-2.06 2.06-.94-2.06-.94L8.5 2.5l-.94 2.06-2.06.94zm10 10l.94 2.06.94-2.06 2.06-.94-2.06-.94-.94-2.06-.94 2.06-2.06.94z\"/><path d=\"M17.41 7.96l-1.37-1.37c-.4-.4-.92-.59-1.43-.59-.52 0-1.04.2-1.43.59L10.3 9.45l-7.72 7.72c-.78.78-.78 2.05 0 2.83L4 21.41c.39.39.9.59 1.41.59.51 0 1.02-.2 1.41-.59l7.78-7.78 2.81-2.81c.8-.78.8-2.07 0-2.86zM5.41 20L4 18.59l7.72-7.72 1.47 1.35L5.41 20z\"/>\n",
              "  </svg>\n",
              "      </button>\n",
              "      \n",
              "  <style>\n",
              "    .colab-df-container {\n",
              "      display:flex;\n",
              "      flex-wrap:wrap;\n",
              "      gap: 12px;\n",
              "    }\n",
              "\n",
              "    .colab-df-convert {\n",
              "      background-color: #E8F0FE;\n",
              "      border: none;\n",
              "      border-radius: 50%;\n",
              "      cursor: pointer;\n",
              "      display: none;\n",
              "      fill: #1967D2;\n",
              "      height: 32px;\n",
              "      padding: 0 0 0 0;\n",
              "      width: 32px;\n",
              "    }\n",
              "\n",
              "    .colab-df-convert:hover {\n",
              "      background-color: #E2EBFA;\n",
              "      box-shadow: 0px 1px 2px rgba(60, 64, 67, 0.3), 0px 1px 3px 1px rgba(60, 64, 67, 0.15);\n",
              "      fill: #174EA6;\n",
              "    }\n",
              "\n",
              "    [theme=dark] .colab-df-convert {\n",
              "      background-color: #3B4455;\n",
              "      fill: #D2E3FC;\n",
              "    }\n",
              "\n",
              "    [theme=dark] .colab-df-convert:hover {\n",
              "      background-color: #434B5C;\n",
              "      box-shadow: 0px 1px 3px 1px rgba(0, 0, 0, 0.15);\n",
              "      filter: drop-shadow(0px 1px 2px rgba(0, 0, 0, 0.3));\n",
              "      fill: #FFFFFF;\n",
              "    }\n",
              "  </style>\n",
              "\n",
              "      <script>\n",
              "        const buttonEl =\n",
              "          document.querySelector('#df-033a9e9a-5043-49ee-92e5-b18cd5e5c9a8 button.colab-df-convert');\n",
              "        buttonEl.style.display =\n",
              "          google.colab.kernel.accessAllowed ? 'block' : 'none';\n",
              "\n",
              "        async function convertToInteractive(key) {\n",
              "          const element = document.querySelector('#df-033a9e9a-5043-49ee-92e5-b18cd5e5c9a8');\n",
              "          const dataTable =\n",
              "            await google.colab.kernel.invokeFunction('convertToInteractive',\n",
              "                                                     [key], {});\n",
              "          if (!dataTable) return;\n",
              "\n",
              "          const docLinkHtml = 'Like what you see? Visit the ' +\n",
              "            '<a target=\"_blank\" href=https://colab.research.google.com/notebooks/data_table.ipynb>data table notebook</a>'\n",
              "            + ' to learn more about interactive tables.';\n",
              "          element.innerHTML = '';\n",
              "          dataTable['output_type'] = 'display_data';\n",
              "          await google.colab.output.renderOutput(dataTable, element);\n",
              "          const docLink = document.createElement('div');\n",
              "          docLink.innerHTML = docLinkHtml;\n",
              "          element.appendChild(docLink);\n",
              "        }\n",
              "      </script>\n",
              "    </div>\n",
              "  </div>\n",
              "  "
            ]
          },
          "metadata": {},
          "execution_count": 89
        }
      ]
    },
    {
      "cell_type": "code",
      "source": [
        "#Generate the confusion matrix\n",
        "cf_matrix = confusion_matrix(Y_test1, Y_pred1)\n",
        "\n",
        "ax = sns.heatmap(cf_matrix/np.sum(cf_matrix), annot=True, fmt='.2%', cmap='Blues')\n",
        "\n",
        "ax.set_title('Confusion Matrix for CNN Model\\n\\n');\n",
        "ax.set_xlabel('\\nPredicted Values')\n",
        "ax.set_ylabel('Actual Values ');\n",
        "\n",
        "ax.xaxis.set_ticklabels(['No Hate','Hate'])\n",
        "ax.yaxis.set_ticklabels(['No Hate','Hate'])\n",
        "\n",
        "plt.show()\n",
        "print('\\n')\n",
        "\n",
        "#Generate the confusion matrix\n",
        "cf_matrix = confusion_matrix(Y_test2, Y_pred2)\n",
        "\n",
        "ax = sns.heatmap(cf_matrix/np.sum(cf_matrix), annot=True, fmt='.2%', cmap='Blues')\n",
        "\n",
        "ax.set_title('Confusion Matrix for LSTM Model\\n\\n');\n",
        "ax.set_xlabel('\\nPredicted Values')\n",
        "ax.set_ylabel('Actual Values ');\n",
        "\n",
        "ax.xaxis.set_ticklabels(['No Hate','Hate'])\n",
        "ax.yaxis.set_ticklabels(['No Hate','Hate'])\n",
        "\n",
        "plt.show()\n",
        "print('\\n')\n",
        "\n",
        "#Generate the confusion matrix\n",
        "cf_matrix = confusion_matrix(Y_test3, Y_pred3)\n",
        "\n",
        "ax = sns.heatmap(cf_matrix/np.sum(cf_matrix), annot=True, fmt='.2%', cmap='Blues')\n",
        "\n",
        "ax.set_title('Confusion Matrix for CNN+LSTM Model\\n\\n');\n",
        "ax.set_xlabel('\\nPredicted Values')\n",
        "ax.set_ylabel('Actual Values ');\n",
        "\n",
        "ax.xaxis.set_ticklabels(['No Hate','Hate'])\n",
        "ax.yaxis.set_ticklabels(['No Hate','Hate'])\n",
        "\n",
        "plt.show()"
      ],
      "metadata": {
        "colab": {
          "base_uri": "https://localhost:8080/",
          "height": 1000
        },
        "id": "82i1hvyCVxED",
        "outputId": "e1779d01-0417-430d-b494-af3d9e9f24cb"
      },
      "execution_count": null,
      "outputs": [
        {
          "output_type": "display_data",
          "data": {
            "text/plain": [
              "<Figure size 432x288 with 2 Axes>"
            ],
            "image/png": "[encoded data removed]"
          },
          "metadata": {
            "needs_background": "light"
          }
        },
        {
          "output_type": "stream",
          "name": "stdout",
          "text": [
            "\n",
            "\n"
          ]
        },
        {
          "output_type": "display_data",
          "data": {
            "text/plain": [
              "<Figure size 432x288 with 2 Axes>"
            ],
            "image/png": "[encoded data removed]"
          },
          "metadata": {
            "needs_background": "light"
          }
        },
        {
          "output_type": "stream",
          "name": "stdout",
          "text": [
            "\n",
            "\n"
          ]
        },
        {
          "output_type": "display_data",
          "data": {
            "text/plain": [
              "<Figure size 432x288 with 2 Axes>"
            ],
            "image/png": "[encoded data removed]"
          },
          "metadata": {
            "needs_background": "light"
          }
        }
      ]
    },
    {
      "cell_type": "markdown",
      "source": [
        "Actual vs Prediction graph"
      ],
      "metadata": {
        "id": "JFkVIIbpE5lE"
      }
    },
    {
      "cell_type": "code",
      "source": [
        "import numpy as np\n",
        "import pandas as pd\n",
        "from pandas import Series, DataFrame\n",
        "import matplotlib.pyplot as plt\n",
        "\n",
        "data1 = [0.77, 0.84, 0.81, 0.90, 0.75]\n",
        "data2 = [0.75, 0.67, 0.71, 0.88, 0.68]\n",
        "data3 = [0.81, 0.81, 0.81, 0.93, 0.77]\n",
        "width = 0.3\n",
        "plt.bar(np.arange(len(data1)), data1, width=width)\n",
        "plt.bar(np.arange(len(data2))+ width, data2, width=width)\n",
        "plt.bar(np.arange(len(data2))+width+ width, data3, width=width)\n",
        "plt.show()"
      ],
      "metadata": {
        "colab": {
          "base_uri": "https://localhost:8080/",
          "height": 265
        },
        "id": "Osr-71dkJ3ZE",
        "outputId": "a6c29ec9-9301-49f7-fef1-0db0a60472ff"
      },
      "execution_count": null,
      "outputs": [
        {
          "output_type": "display_data",
          "data": {
            "text/plain": [
              "<Figure size 432x288 with 1 Axes>"
            ],
            "image/png": "[encoded data removed]"
          },
          "metadata": {
            "needs_background": "light"
          }
        }
      ]
    },
    {
      "cell_type": "code",
      "source": [
        "plotdata = pd.DataFrame({\n",
        "\n",
        "    \"CNN\":[0.77, 0.84, 0.81, 0.90, 0.75],\n",
        "\n",
        "    \"LSTM\":[0.75, 0.67, 0.71, 0.88, 0.68],\n",
        "\n",
        "    \"CNN+LSTM\":[0.81, 0.81, 0.81, 0.93, 0.77]},\n",
        "\n",
        "    index=[\"Precision\", \"Recall\", \"F1-score\", \"Accuracy-train\", \"Accuracy-test\"])\n",
        "\n",
        "plotdata.plot(kind=\"bar\",figsize=(15, 8))\n",
        "\n",
        "plt.title(\"performance Comparison\")\n",
        "\n",
        "plt.xlabel(\"Deep Learning Model\")\n",
        "\n",
        "plt.ylabel(\"Score\")"
      ],
      "metadata": {
        "colab": {
          "base_uri": "https://localhost:8080/",
          "height": 592
        },
        "id": "CWn6Hi_TMAn4",
        "outputId": "36581fd0-094d-4065-cf22-c995c86bc915"
      },
      "execution_count": null,
      "outputs": [
        {
          "output_type": "execute_result",
          "data": {
            "text/plain": [
              "Text(0, 0.5, 'Score')"
            ]
          },
          "metadata": {},
          "execution_count": 102
        },
        {
          "output_type": "display_data",
          "data": {
            "text/plain": [
              "<Figure size 1080x576 with 1 Axes>"
            ],
            "image/png": "[encoded data removed]"
          },
          "metadata": {
            "needs_background": "light"
          }
        }
      ]
    }
  ]
}